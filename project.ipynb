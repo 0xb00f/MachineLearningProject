{
  "cells": [
    {
      "metadata": {
        "collapsed": true
      },
      "cell_type": "markdown",
      "source": "# Machine Learning Project"
    },
    {
      "metadata": {},
      "cell_type": "markdown",
      "source": "1. (10 points) The source and a clear description of the dataset under consideration. You need to cite your data source properly and you need to clearly identify your response variable.\n2. (5 points) Appropriateness and a clear statement of your goals and objectives for modelling this particular data. \n3. (10 points) Data pre-processing as appropriate (dealing with missing values & outliers & incorrect values (such as negative age), dropping ID-like columns, data aggregation if necessary, etc). \nNOTE: If your dataset is already clean and no data pre-processing is required, that's OK. In that case, the next rubric (Data exploration) shall be marked out of 25 points (instead of 15 points). In this case, this additional 10 points will be allocated in the \"Data pre-processing\" line item.\n4. (15 points) Data exploration & visualisation as appropriate: charts, graphs, boxplots, numerical summaries, etc. \n5. (40 points) Predictive modelling:\n6. (5 points) A complete overview of your methodology\n7. (15 points) Details of feature selection, the algorithms’ fine-tuning process, relevant fine-tuning plots, and detailed performance analysis of each algorithm\n8. (10 points) Performance comparison of the algorithms as appropriate (cross-validation, AUC, etc.) using paired t-tests\n9. (10 points) A critique of your approach: underlying assumptions, its limitations, its strengths and its weaknesses\n10. (10 points) Summary & conclusions: a clear overall summary of your project, a clear and accurate summary of your findings, and your detailed conclusions as they relate to your goals and objectives.\n11. (10 points) Presentation: a Table of Contents (3 points by itself), appropriate headers & subheaders, clarity, conciseness, coherence, grammar, punctuation, and other good writing practices."
    },
    {
      "metadata": {},
      "cell_type": "markdown",
      "source": "### 1. (10 points) The source and a clear description of the dataset under consideration. You need to cite your data source properly and you need to clearly identify your response variable.\n// See exampe for structure https://www.featureranking.com/tutorials/statistics-tutorials/regression-case-study/"
    },
    {
      "metadata": {},
      "cell_type": "markdown",
      "source": "## Introduction\nEXAMPLE: The objective of this toy project is to predict the age of an individual with the 1994 US Census Data using multiple linear regression. We use the Statsmodels and Patsy modules for this task with Pyhon version >= 3.6. The dataset was sourced from the UCI Machine Learning Repository at https://archive.ics.uci.edu/ml/datasets/adult (Lichman, 2013)."
    },
    {
      "metadata": {},
      "cell_type": "markdown",
      "source": "Table of content:\n\n- [Overview](#overview) section describes the dataset used and the features in this dataset.\n- [Data preparation](#dataprep)\n- Data exploration & visualisation\n- Predictive modelling\n\n\n....."
    },
    {
      "metadata": {},
      "cell_type": "markdown",
      "source": "## Overview\n<a id='overview'></a>\nDescribing \n- Data Source\n- Project Objective\n- Target Feature\n- Descriptive Feature"
    },
    {
      "metadata": {},
      "cell_type": "markdown",
      "source": "## Data Preparation\n<a id='dataprep'></a>"
    },
    {
      "metadata": {
        "trusted": true
      },
      "cell_type": "code",
      "source": "import pandas as pd\nimport numpy as np\n\n# Ignore python warnings\nimport warnings\nwarnings.filterwarnings('ignore')\n\n# so that we can see all the columns\npd.set_option('display.max_columns', None) \n\ndf = pd.read_csv('heart.csv', header=None)",
      "execution_count": 2,
      "outputs": []
    },
    {
      "metadata": {
        "trusted": true,
        "scrolled": true
      },
      "cell_type": "code",
      "source": "# headers = ['age', 'sex', 'chest_pain_type', 'resting_bp', 'serum_cholestoral', 'fasting_blood_sugar', 'resting_ecg_results', 'max_hr_achieved', 'exercise_induced_angina', 'oldpeak', 'slope_of_peak_exercise', 'no_of_major_vessels', 'thal', 'target']\n# To see the data easier, setting the long headers to abbreviations \nheaders = ['age', 'sex', 'cpt', 'rb', 'sc', 'fbs', 'rer', 'mha', 'eia', 'old', 'sope', 'nomv', 'thal', 'target'] \ndf.columns = headers\ndf.head()",
      "execution_count": 7,
      "outputs": [
        {
          "output_type": "execute_result",
          "execution_count": 7,
          "data": {
            "text/html": "<div>\n<style scoped>\n    .dataframe tbody tr th:only-of-type {\n        vertical-align: middle;\n    }\n\n    .dataframe tbody tr th {\n        vertical-align: top;\n    }\n\n    .dataframe thead th {\n        text-align: right;\n    }\n</style>\n<table border=\"1\" class=\"dataframe\">\n  <thead>\n    <tr style=\"text-align: right;\">\n      <th></th>\n      <th>age</th>\n      <th>sex</th>\n      <th>cpt</th>\n      <th>rb</th>\n      <th>sc</th>\n      <th>fbs</th>\n      <th>rer</th>\n      <th>mha</th>\n      <th>eia</th>\n      <th>old</th>\n      <th>sope</th>\n      <th>nomv</th>\n      <th>thal</th>\n      <th>target</th>\n    </tr>\n  </thead>\n  <tbody>\n    <tr>\n      <th>0</th>\n      <td>70.0</td>\n      <td>1.0</td>\n      <td>4.0</td>\n      <td>130.0</td>\n      <td>322.0</td>\n      <td>0.0</td>\n      <td>2.0</td>\n      <td>109.0</td>\n      <td>0.0</td>\n      <td>2.4</td>\n      <td>2.0</td>\n      <td>3.0</td>\n      <td>3.0</td>\n      <td>2</td>\n    </tr>\n    <tr>\n      <th>1</th>\n      <td>67.0</td>\n      <td>0.0</td>\n      <td>3.0</td>\n      <td>115.0</td>\n      <td>564.0</td>\n      <td>0.0</td>\n      <td>2.0</td>\n      <td>160.0</td>\n      <td>0.0</td>\n      <td>1.6</td>\n      <td>2.0</td>\n      <td>0.0</td>\n      <td>7.0</td>\n      <td>1</td>\n    </tr>\n    <tr>\n      <th>2</th>\n      <td>57.0</td>\n      <td>1.0</td>\n      <td>2.0</td>\n      <td>124.0</td>\n      <td>261.0</td>\n      <td>0.0</td>\n      <td>0.0</td>\n      <td>141.0</td>\n      <td>0.0</td>\n      <td>0.3</td>\n      <td>1.0</td>\n      <td>0.0</td>\n      <td>7.0</td>\n      <td>2</td>\n    </tr>\n    <tr>\n      <th>3</th>\n      <td>64.0</td>\n      <td>1.0</td>\n      <td>4.0</td>\n      <td>128.0</td>\n      <td>263.0</td>\n      <td>0.0</td>\n      <td>0.0</td>\n      <td>105.0</td>\n      <td>1.0</td>\n      <td>0.2</td>\n      <td>2.0</td>\n      <td>1.0</td>\n      <td>7.0</td>\n      <td>1</td>\n    </tr>\n    <tr>\n      <th>4</th>\n      <td>74.0</td>\n      <td>0.0</td>\n      <td>2.0</td>\n      <td>120.0</td>\n      <td>269.0</td>\n      <td>0.0</td>\n      <td>2.0</td>\n      <td>121.0</td>\n      <td>1.0</td>\n      <td>0.2</td>\n      <td>1.0</td>\n      <td>1.0</td>\n      <td>3.0</td>\n      <td>1</td>\n    </tr>\n  </tbody>\n</table>\n</div>",
            "text/plain": "    age  sex  cpt     rb     sc  fbs  rer    mha  eia  old  sope  nomv  thal  \\\n0  70.0  1.0  4.0  130.0  322.0  0.0  2.0  109.0  0.0  2.4   2.0   3.0   3.0   \n1  67.0  0.0  3.0  115.0  564.0  0.0  2.0  160.0  0.0  1.6   2.0   0.0   7.0   \n2  57.0  1.0  2.0  124.0  261.0  0.0  0.0  141.0  0.0  0.3   1.0   0.0   7.0   \n3  64.0  1.0  4.0  128.0  263.0  0.0  0.0  105.0  1.0  0.2   2.0   1.0   7.0   \n4  74.0  0.0  2.0  120.0  269.0  0.0  2.0  121.0  1.0  0.2   1.0   1.0   3.0   \n\n   target  \n0       2  \n1       1  \n2       2  \n3       1  \n4       1  "
          },
          "metadata": {}
        }
      ]
    }
  ],
  "metadata": {
    "kernelspec": {
      "name": "python36",
      "display_name": "Python 3.6",
      "language": "python"
    },
    "language_info": {
      "mimetype": "text/x-python",
      "nbconvert_exporter": "python",
      "name": "python",
      "pygments_lexer": "ipython3",
      "version": "3.6.6",
      "file_extension": ".py",
      "codemirror_mode": {
        "version": 3,
        "name": "ipython"
      }
    }
  },
  "nbformat": 4,
  "nbformat_minor": 2
}