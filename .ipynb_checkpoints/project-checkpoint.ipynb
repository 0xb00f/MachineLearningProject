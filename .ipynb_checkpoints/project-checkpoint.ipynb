{
  "cells": [
    {
      "metadata": {
        "collapsed": true
      },
      "cell_type": "markdown",
      "source": "# Machine Learning Project"
    },
    {
      "metadata": {
        "trusted": true
      },
      "cell_type": "code",
      "source": "import pandas as pd\nimport numpy as np\n\n# so that we can see all the columns\npd.set_option('display.max_columns', None) \n\ndf = pd.read_csv('heart.csv', header=None)",
      "execution_count": 2,
      "outputs": []
    },
    {
      "metadata": {
        "trusted": true
      },
      "cell_type": "code",
      "source": "# headers = ['age', 'sex', 'chest_pain_type', 'resting_bp', 'serum_cholestoral', 'fasting_blood_sugar', 'resting_ecg_results', 'max_hr_achieved', 'exercise_induced_angina', 'oldpeak', 'slope_of_peak_exercise', 'no_of_major_vessels', 'thal', 'target']\nheaders = ['a', 's', 'cpt', 'rb', 'sc', 'fbs', 'rer', 'mha', 'eia', 'o', 'sope', 'nomv', 'thal', 'target']\ndf.columns = headers\ndf.head()",
      "execution_count": 3,
      "outputs": [
        {
          "output_type": "execute_result",
          "execution_count": 3,
          "data": {
            "text/html": "<div>\n<style scoped>\n    .dataframe tbody tr th:only-of-type {\n        vertical-align: middle;\n    }\n\n    .dataframe tbody tr th {\n        vertical-align: top;\n    }\n\n    .dataframe thead th {\n        text-align: right;\n    }\n</style>\n<table border=\"1\" class=\"dataframe\">\n  <thead>\n    <tr style=\"text-align: right;\">\n      <th></th>\n      <th>age</th>\n      <th>sex</th>\n      <th>chest_pain_type</th>\n      <th>resting_bp</th>\n      <th>serum_cholestoral</th>\n      <th>fasting_blood_sugar</th>\n      <th>resting_ecg_results</th>\n      <th>max_hr_achieved</th>\n      <th>exercise_induced_angina</th>\n      <th>oldpeak</th>\n      <th>slope_of_peak_exercise</th>\n      <th>no_of_major_vessels</th>\n      <th>thal</th>\n      <th>target</th>\n    </tr>\n  </thead>\n  <tbody>\n    <tr>\n      <th>0</th>\n      <td>70.0</td>\n      <td>1.0</td>\n      <td>4.0</td>\n      <td>130.0</td>\n      <td>322.0</td>\n      <td>0.0</td>\n      <td>2.0</td>\n      <td>109.0</td>\n      <td>0.0</td>\n      <td>2.4</td>\n      <td>2.0</td>\n      <td>3.0</td>\n      <td>3.0</td>\n      <td>2</td>\n    </tr>\n    <tr>\n      <th>1</th>\n      <td>67.0</td>\n      <td>0.0</td>\n      <td>3.0</td>\n      <td>115.0</td>\n      <td>564.0</td>\n      <td>0.0</td>\n      <td>2.0</td>\n      <td>160.0</td>\n      <td>0.0</td>\n      <td>1.6</td>\n      <td>2.0</td>\n      <td>0.0</td>\n      <td>7.0</td>\n      <td>1</td>\n    </tr>\n    <tr>\n      <th>2</th>\n      <td>57.0</td>\n      <td>1.0</td>\n      <td>2.0</td>\n      <td>124.0</td>\n      <td>261.0</td>\n      <td>0.0</td>\n      <td>0.0</td>\n      <td>141.0</td>\n      <td>0.0</td>\n      <td>0.3</td>\n      <td>1.0</td>\n      <td>0.0</td>\n      <td>7.0</td>\n      <td>2</td>\n    </tr>\n    <tr>\n      <th>3</th>\n      <td>64.0</td>\n      <td>1.0</td>\n      <td>4.0</td>\n      <td>128.0</td>\n      <td>263.0</td>\n      <td>0.0</td>\n      <td>0.0</td>\n      <td>105.0</td>\n      <td>1.0</td>\n      <td>0.2</td>\n      <td>2.0</td>\n      <td>1.0</td>\n      <td>7.0</td>\n      <td>1</td>\n    </tr>\n    <tr>\n      <th>4</th>\n      <td>74.0</td>\n      <td>0.0</td>\n      <td>2.0</td>\n      <td>120.0</td>\n      <td>269.0</td>\n      <td>0.0</td>\n      <td>2.0</td>\n      <td>121.0</td>\n      <td>1.0</td>\n      <td>0.2</td>\n      <td>1.0</td>\n      <td>1.0</td>\n      <td>3.0</td>\n      <td>1</td>\n    </tr>\n  </tbody>\n</table>\n</div>",
            "text/plain": "    age  sex  chest_pain_type  resting_bp  serum_cholestoral  \\\n0  70.0  1.0              4.0       130.0              322.0   \n1  67.0  0.0              3.0       115.0              564.0   \n2  57.0  1.0              2.0       124.0              261.0   \n3  64.0  1.0              4.0       128.0              263.0   \n4  74.0  0.0              2.0       120.0              269.0   \n\n   fasting_blood_sugar  resting_ecg_results  max_hr_achieved  \\\n0                  0.0                  2.0            109.0   \n1                  0.0                  2.0            160.0   \n2                  0.0                  0.0            141.0   \n3                  0.0                  0.0            105.0   \n4                  0.0                  2.0            121.0   \n\n   exercise_induced_angina  oldpeak  slope_of_peak_exercise  \\\n0                      0.0      2.4                     2.0   \n1                      0.0      1.6                     2.0   \n2                      0.0      0.3                     1.0   \n3                      1.0      0.2                     2.0   \n4                      1.0      0.2                     1.0   \n\n   no_of_major_vessels  thal  target  \n0                  3.0   3.0       2  \n1                  0.0   7.0       1  \n2                  0.0   7.0       2  \n3                  1.0   7.0       1  \n4                  1.0   3.0       1  "
          },
          "metadata": {}
        }
      ]
    }
  ],
  "metadata": {
    "kernelspec": {
      "name": "python36",
      "display_name": "Python 3.6",
      "language": "python"
    },
    "language_info": {
      "mimetype": "text/x-python",
      "nbconvert_exporter": "python",
      "name": "python",
      "pygments_lexer": "ipython3",
      "version": "3.6.6",
      "file_extension": ".py",
      "codemirror_mode": {
        "version": 3,
        "name": "ipython"
      }
    }
  },
  "nbformat": 4,
  "nbformat_minor": 2
}